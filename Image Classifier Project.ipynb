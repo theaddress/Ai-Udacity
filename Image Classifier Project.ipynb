{
 "cells": [
  {
   "cell_type": "markdown",
   "metadata": {},
   "source": [
    "# Developing an AI application\n",
    "\n",
    "Going forward, AI algorithms will be incorporated into more and more everyday applications. For example, you might want to include an image classifier in a smart phone app. To do this, you'd use a deep learning model trained on hundreds of thousands of images as part of the overall application architecture. A large part of software development in the future will be using these types of models as common parts of applications. \n",
    "\n",
    "In this project, you'll train an image classifier to recognize different species of flowers. You can imagine using something like this in a phone app that tells you the name of the flower your camera is looking at. In practice you'd train this classifier, then export it for use in your application. We'll be using [this dataset](http://www.robots.ox.ac.uk/~vgg/data/flowers/102/index.html) of 102 flower categories, you can see a few examples below. \n",
    "\n",
    "<img src='assets/Flowers.png' width=500px>\n",
    "\n",
    "The project is broken down into multiple steps:\n",
    "\n",
    "* Load and preprocess the image dataset\n",
    "* Train the image classifier on your dataset\n",
    "* Use the trained classifier to predict image content\n",
    "\n",
    "We'll lead you through each part which you'll implement in Python.\n",
    "\n",
    "When you've completed this project, you'll have an application that can be trained on any set of labeled images. Here your network will be learning about flowers and end up as a command line application. But, what you do with your new skills depends on your imagination and effort in building a dataset. For example, imagine an app where you take a picture of a car, it tells you what the make and model is, then looks up information about it. Go build your own dataset and make something new.\n",
    "\n",
    "First up is importing the packages you'll need. It's good practice to keep all the imports at the beginning of your code. As you work through this notebook and find you need to import a package, make sure to add the import up here."
   ]
  },
  {
   "cell_type": "code",
   "execution_count": 13,
   "metadata": {},
   "outputs": [],
   "source": [
    "# Imports here\n",
    "import matplotlib.pyplot as plt\n",
    "\n",
    "import torch\n",
    "from torchvision import datasets, transforms, models\n",
    "\n",
    "import json\n",
    "\n",
    "from torch import nn, optim\n",
    "import torch.nn.functional as F\n",
    "import numpy as np\n",
    "from PIL import Image\n",
    "\n",
    "from matplotlib.ticker import FormatStrFormatter\n"
   ]
  },
  {
   "cell_type": "markdown",
   "metadata": {},
   "source": [
    "## Load the data\n",
    "\n",
    "Here you'll use `torchvision` to load the data ([documentation](http://pytorch.org/docs/0.3.0/torchvision/index.html)). The data should be included alongside this notebook, otherwise you can [download it here](https://s3.amazonaws.com/content.udacity-data.com/nd089/flower_data.tar.gz). The dataset is split into three parts, training, validation, and testing. For the training, you'll want to apply transformations such as random scaling, cropping, and flipping. This will help the network generalize leading to better performance. You'll also need to make sure the input data is resized to 224x224 pixels as required by the pre-trained networks.\n",
    "\n",
    "The validation and testing sets are used to measure the model's performance on data it hasn't seen yet. For this you don't want any scaling or rotation transformations, but you'll need to resize then crop the images to the appropriate size.\n",
    "\n",
    "The pre-trained networks you'll use were trained on the ImageNet dataset where each color channel was normalized separately. For all three sets you'll need to normalize the means and standard deviations of the images to what the network expects. For the means, it's `[0.485, 0.456, 0.406]` and for the standard deviations `[0.229, 0.224, 0.225]`, calculated from the ImageNet images.  These values will shift each color channel to be centered at 0 and range from -1 to 1.\n",
    " "
   ]
  },
  {
   "cell_type": "code",
   "execution_count": 2,
   "metadata": {},
   "outputs": [],
   "source": [
    "data_dir = 'flowers'\n",
    "train_dir = data_dir + '/train'\n",
    "valid_dir = data_dir + '/valid'\n",
    "test_dir = data_dir + '/test'"
   ]
  },
  {
   "cell_type": "code",
   "execution_count": 3,
   "metadata": {},
   "outputs": [],
   "source": [
    "# TODO: Define your transforms for the training, validation, and testing sets\n",
    "train_transforms = transforms.Compose([transforms.RandomRotation(30),\n",
    "                                      transforms.RandomResizedCrop(224), \n",
    "                                      transforms.RandomHorizontalFlip(), \n",
    "                                      transforms.ToTensor(),\n",
    "                                      transforms.Normalize([0.485, 0.456, 0.406],[0.229, 0.224, 0.225])])\n",
    "valid_transforms = transforms.Compose([transforms.Resize(256), \n",
    "                                      transforms.RandomResizedCrop(224), \n",
    "                                      transforms.ToTensor(),\n",
    "                                      transforms.Normalize([0.485, 0.456, 0.406],[0.229, 0.224, 0.225])])\n",
    "test_transforms = transforms.Compose([transforms.Resize(256), \n",
    "                                      transforms.RandomResizedCrop(224), \n",
    "                                      transforms.ToTensor(),\n",
    "                                      transforms.Normalize([0.485, 0.456, 0.406],[0.229, 0.224, 0.225])])                                      \n",
    "# TODO: Load the datasets with ImageFolder\n",
    "train_datasets = datasets.ImageFolder(train_dir, transform=train_transforms)\n",
    "valid_datasets = datasets.ImageFolder(valid_dir, transform=valid_transforms)\n",
    "test_datasets = datasets.ImageFolder(test_dir, transform=test_transforms)                                      \n",
    "# TODO: Using the image datasets and the trainforms, define the dataloaders\n",
    "trainloaders = torch.utils.data.DataLoader(train_datasets,batch_size=102, shuffle=True)\n",
    "validloaders = torch.utils.data.DataLoader(valid_datasets,batch_size=102, shuffle=True)\n",
    "testloaders = torch.utils.data.DataLoader(test_datasets,batch_size=102, shuffle=True)                                      "
   ]
  },
  {
   "cell_type": "markdown",
   "metadata": {},
   "source": [
    "### Label mapping\n",
    "\n",
    "You'll also need to load in a mapping from category label to category name. You can find this in the file `cat_to_name.json`. It's a JSON object which you can read in with the [`json` module](https://docs.python.org/2/library/json.html). This will give you a dictionary mapping the integer encoded categories to the actual names of the flowers."
   ]
  },
  {
   "cell_type": "code",
   "execution_count": 4,
   "metadata": {},
   "outputs": [],
   "source": [
    "import json\n",
    "\n",
    "with open('cat_to_name.json', 'r') as f:\n",
    "    cat_to_name = json.load(f)"
   ]
  },
  {
   "cell_type": "markdown",
   "metadata": {},
   "source": [
    "# Building and training the classifier\n",
    "\n",
    "Now that the data is ready, it's time to build and train the classifier. As usual, you should use one of the pretrained models from `torchvision.models` to get the image features. Build and train a new feed-forward classifier using those features.\n",
    "\n",
    "We're going to leave this part up to you. Refer to [the rubric](https://review.udacity.com/#!/rubrics/1663/view) for guidance on successfully completing this section. Things you'll need to do:\n",
    "\n",
    "* Load a [pre-trained network](http://pytorch.org/docs/master/torchvision/models.html) (If you need a starting point, the VGG networks work great and are straightforward to use)\n",
    "* Define a new, untrained feed-forward network as a classifier, using ReLU activations and dropout\n",
    "* Train the classifier layers using backpropagation using the pre-trained network to get the features\n",
    "* Track the loss and accuracy on the validation set to determine the best hyperparameters\n",
    "\n",
    "We've left a cell open for you below, but use as many as you need. Our advice is to break the problem up into smaller parts you can run separately. Check that each part is doing what you expect, then move on to the next. You'll likely find that as you work through each part, you'll need to go back and modify your previous code. This is totally normal!\n",
    "\n",
    "When training make sure you're updating only the weights of the feed-forward network. You should be able to get the validation accuracy above 70% if you build everything right. Make sure to try different hyperparameters (learning rate, units in the classifier, epochs, etc) to find the best model. Save those hyperparameters to use as default values in the next part of the project.\n",
    "\n",
    "One last important tip if you're using the workspace to run your code: To avoid having your workspace disconnect during the long-running tasks in this notebook, please read in the earlier page in this lesson called Intro to\n",
    "GPU Workspaces about Keeping Your Session Active. You'll want to include code from the workspace_utils.py module.\n",
    "\n",
    "**Note for Workspace users:** If your network is over 1 GB when saved as a checkpoint, there might be issues with saving backups in your workspace. Typically this happens with wide dense layers after the convolutional layers. If your saved checkpoint is larger than 1 GB (you can open a terminal and check with `ls -lh`), you should reduce the size of your hidden layers and train again."
   ]
  },
  {
   "cell_type": "code",
   "execution_count": 5,
   "metadata": {},
   "outputs": [
    {
     "name": "stderr",
     "output_type": "stream",
     "text": [
      "Downloading: \"https://download.pytorch.org/models/vgg16-397923af.pth\" to /root/.torch/models/vgg16-397923af.pth\n",
      "100%|██████████| 553433881/553433881 [00:05<00:00, 103149820.32it/s]\n"
     ]
    },
    {
     "name": "stdout",
     "output_type": "stream",
     "text": [
      "Epoch 1/10.. Train loss: 4.592.. validation loss: 4.427.. Test accuracy: 0.051\n",
      "Epoch 1/10.. Train loss: 4.374.. validation loss: 4.308.. Test accuracy: 0.102\n",
      "Epoch 1/10.. Train loss: 4.076.. validation loss: 3.999.. Test accuracy: 0.137\n",
      "Epoch 1/10.. Train loss: 3.839.. validation loss: 3.688.. Test accuracy: 0.230\n",
      "Epoch 1/10.. Train loss: 3.463.. validation loss: 3.402.. Test accuracy: 0.259\n",
      "Epoch 1/10.. Train loss: 3.317.. validation loss: 3.211.. Test accuracy: 0.312\n",
      "Epoch 1/10.. Train loss: 3.075.. validation loss: 3.069.. Test accuracy: 0.298\n",
      "Epoch 1/10.. Train loss: 2.801.. validation loss: 2.646.. Test accuracy: 0.359\n",
      "Epoch 1/10.. Train loss: 2.546.. validation loss: 2.319.. Test accuracy: 0.436\n",
      "Epoch 1/10.. Train loss: 2.324.. validation loss: 2.109.. Test accuracy: 0.478\n",
      "Epoch 1/10.. Train loss: 2.093.. validation loss: 2.180.. Test accuracy: 0.485\n",
      "Epoch 1/10.. Train loss: 2.032.. validation loss: 1.857.. Test accuracy: 0.500\n",
      "Epoch 1/10.. Train loss: 1.991.. validation loss: 1.920.. Test accuracy: 0.473\n",
      "Epoch 2/10.. Train loss: 1.691.. validation loss: 2.158.. Test accuracy: 0.480\n",
      "Epoch 2/10.. Train loss: 1.703.. validation loss: 1.736.. Test accuracy: 0.533\n",
      "Epoch 2/10.. Train loss: 1.787.. validation loss: 1.990.. Test accuracy: 0.479\n",
      "Epoch 2/10.. Train loss: 1.683.. validation loss: 1.718.. Test accuracy: 0.536\n",
      "Epoch 2/10.. Train loss: 1.686.. validation loss: 1.474.. Test accuracy: 0.650\n",
      "Epoch 2/10.. Train loss: 1.698.. validation loss: 1.585.. Test accuracy: 0.607\n",
      "Epoch 2/10.. Train loss: 1.537.. validation loss: 1.569.. Test accuracy: 0.596\n",
      "Epoch 2/10.. Train loss: 1.477.. validation loss: 1.383.. Test accuracy: 0.596\n",
      "Epoch 2/10.. Train loss: 1.364.. validation loss: 1.350.. Test accuracy: 0.627\n",
      "Epoch 2/10.. Train loss: 1.433.. validation loss: 1.371.. Test accuracy: 0.620\n",
      "Epoch 2/10.. Train loss: 1.439.. validation loss: 1.438.. Test accuracy: 0.574\n",
      "Epoch 2/10.. Train loss: 1.479.. validation loss: 1.283.. Test accuracy: 0.606\n",
      "Epoch 2/10.. Train loss: 1.377.. validation loss: 1.448.. Test accuracy: 0.651\n",
      "Epoch 3/10.. Train loss: 1.288.. validation loss: 1.629.. Test accuracy: 0.563\n",
      "Epoch 3/10.. Train loss: 1.227.. validation loss: 1.176.. Test accuracy: 0.673\n",
      "Epoch 3/10.. Train loss: 1.294.. validation loss: 1.094.. Test accuracy: 0.694\n",
      "Epoch 3/10.. Train loss: 1.218.. validation loss: 1.408.. Test accuracy: 0.582\n",
      "Epoch 3/10.. Train loss: 1.210.. validation loss: 1.325.. Test accuracy: 0.620\n",
      "Epoch 3/10.. Train loss: 1.104.. validation loss: 1.155.. Test accuracy: 0.721\n",
      "Epoch 3/10.. Train loss: 1.097.. validation loss: 1.075.. Test accuracy: 0.693\n",
      "Epoch 3/10.. Train loss: 1.353.. validation loss: 1.016.. Test accuracy: 0.736\n",
      "Epoch 3/10.. Train loss: 1.002.. validation loss: 1.452.. Test accuracy: 0.676\n",
      "Epoch 3/10.. Train loss: 1.099.. validation loss: 1.109.. Test accuracy: 0.721\n",
      "Epoch 3/10.. Train loss: 1.179.. validation loss: 1.115.. Test accuracy: 0.692\n",
      "Epoch 3/10.. Train loss: 1.131.. validation loss: 1.012.. Test accuracy: 0.731\n",
      "Epoch 3/10.. Train loss: 1.158.. validation loss: 0.994.. Test accuracy: 0.742\n",
      "Epoch 4/10.. Train loss: 1.176.. validation loss: 1.216.. Test accuracy: 0.664\n",
      "Epoch 4/10.. Train loss: 0.991.. validation loss: 1.009.. Test accuracy: 0.749\n",
      "Epoch 4/10.. Train loss: 1.001.. validation loss: 1.000.. Test accuracy: 0.734\n",
      "Epoch 4/10.. Train loss: 0.958.. validation loss: 1.179.. Test accuracy: 0.709\n",
      "Epoch 4/10.. Train loss: 1.066.. validation loss: 0.921.. Test accuracy: 0.751\n",
      "Epoch 4/10.. Train loss: 1.041.. validation loss: 1.062.. Test accuracy: 0.747\n",
      "Epoch 4/10.. Train loss: 1.030.. validation loss: 1.077.. Test accuracy: 0.681\n",
      "Epoch 4/10.. Train loss: 1.108.. validation loss: 0.917.. Test accuracy: 0.748\n",
      "Epoch 4/10.. Train loss: 1.037.. validation loss: 0.905.. Test accuracy: 0.772\n",
      "Epoch 4/10.. Train loss: 1.014.. validation loss: 0.849.. Test accuracy: 0.773\n",
      "Epoch 4/10.. Train loss: 0.961.. validation loss: 0.832.. Test accuracy: 0.791\n",
      "Epoch 4/10.. Train loss: 0.945.. validation loss: 0.862.. Test accuracy: 0.773\n",
      "Epoch 4/10.. Train loss: 0.858.. validation loss: 1.072.. Test accuracy: 0.695\n",
      "Epoch 5/10.. Train loss: 1.053.. validation loss: 1.026.. Test accuracy: 0.687\n",
      "Epoch 5/10.. Train loss: 1.060.. validation loss: 0.866.. Test accuracy: 0.783\n",
      "Epoch 5/10.. Train loss: 0.912.. validation loss: 0.947.. Test accuracy: 0.711\n",
      "Epoch 5/10.. Train loss: 0.920.. validation loss: 0.930.. Test accuracy: 0.745\n",
      "Epoch 5/10.. Train loss: 0.882.. validation loss: 0.867.. Test accuracy: 0.777\n",
      "Epoch 5/10.. Train loss: 0.861.. validation loss: 0.905.. Test accuracy: 0.783\n",
      "Epoch 5/10.. Train loss: 0.903.. validation loss: 1.169.. Test accuracy: 0.648\n",
      "Epoch 5/10.. Train loss: 0.925.. validation loss: 0.813.. Test accuracy: 0.771\n",
      "Epoch 5/10.. Train loss: 0.954.. validation loss: 0.850.. Test accuracy: 0.777\n",
      "Epoch 5/10.. Train loss: 0.882.. validation loss: 0.911.. Test accuracy: 0.765\n",
      "Epoch 5/10.. Train loss: 0.901.. validation loss: 0.883.. Test accuracy: 0.772\n",
      "Epoch 5/10.. Train loss: 0.771.. validation loss: 0.794.. Test accuracy: 0.790\n",
      "Epoch 5/10.. Train loss: 0.778.. validation loss: 0.861.. Test accuracy: 0.777\n",
      "Epoch 6/10.. Train loss: 0.875.. validation loss: 0.877.. Test accuracy: 0.731\n",
      "Epoch 6/10.. Train loss: 0.956.. validation loss: 0.828.. Test accuracy: 0.788\n",
      "Epoch 6/10.. Train loss: 0.874.. validation loss: 1.144.. Test accuracy: 0.720\n",
      "Epoch 6/10.. Train loss: 0.848.. validation loss: 0.803.. Test accuracy: 0.797\n",
      "Epoch 6/10.. Train loss: 0.942.. validation loss: 1.080.. Test accuracy: 0.647\n",
      "Epoch 6/10.. Train loss: 0.885.. validation loss: 0.903.. Test accuracy: 0.735\n",
      "Epoch 6/10.. Train loss: 0.891.. validation loss: 0.929.. Test accuracy: 0.737\n",
      "Epoch 6/10.. Train loss: 0.889.. validation loss: 0.914.. Test accuracy: 0.747\n",
      "Epoch 6/10.. Train loss: 1.041.. validation loss: 0.930.. Test accuracy: 0.739\n",
      "Epoch 6/10.. Train loss: 0.846.. validation loss: 0.958.. Test accuracy: 0.737\n",
      "Epoch 6/10.. Train loss: 0.784.. validation loss: 0.804.. Test accuracy: 0.779\n",
      "Epoch 6/10.. Train loss: 0.773.. validation loss: 0.851.. Test accuracy: 0.744\n",
      "Epoch 6/10.. Train loss: 0.925.. validation loss: 0.815.. Test accuracy: 0.780\n",
      "Epoch 7/10.. Train loss: 0.774.. validation loss: 0.881.. Test accuracy: 0.776\n",
      "Epoch 7/10.. Train loss: 0.690.. validation loss: 0.756.. Test accuracy: 0.796\n",
      "Epoch 7/10.. Train loss: 0.741.. validation loss: 0.776.. Test accuracy: 0.752\n",
      "Epoch 7/10.. Train loss: 0.738.. validation loss: 0.920.. Test accuracy: 0.709\n",
      "Epoch 7/10.. Train loss: 0.847.. validation loss: 0.811.. Test accuracy: 0.780\n",
      "Epoch 7/10.. Train loss: 0.887.. validation loss: 0.795.. Test accuracy: 0.802\n",
      "Epoch 7/10.. Train loss: 0.725.. validation loss: 0.764.. Test accuracy: 0.796\n",
      "Epoch 7/10.. Train loss: 0.764.. validation loss: 0.816.. Test accuracy: 0.808\n",
      "Epoch 7/10.. Train loss: 0.875.. validation loss: 0.711.. Test accuracy: 0.809\n",
      "Epoch 7/10.. Train loss: 0.783.. validation loss: 0.855.. Test accuracy: 0.790\n",
      "Epoch 7/10.. Train loss: 0.772.. validation loss: 0.966.. Test accuracy: 0.730\n",
      "Epoch 7/10.. Train loss: 0.884.. validation loss: 0.702.. Test accuracy: 0.805\n",
      "Epoch 7/10.. Train loss: 0.808.. validation loss: 0.783.. Test accuracy: 0.804\n",
      "Epoch 8/10.. Train loss: 0.832.. validation loss: 0.843.. Test accuracy: 0.791\n",
      "Epoch 8/10.. Train loss: 0.811.. validation loss: 0.709.. Test accuracy: 0.813\n",
      "Epoch 8/10.. Train loss: 0.750.. validation loss: 0.786.. Test accuracy: 0.770\n",
      "Epoch 8/10.. Train loss: 0.718.. validation loss: 0.743.. Test accuracy: 0.805\n",
      "Epoch 8/10.. Train loss: 0.665.. validation loss: 0.770.. Test accuracy: 0.796\n",
      "Epoch 8/10.. Train loss: 0.741.. validation loss: 1.098.. Test accuracy: 0.732\n",
      "Epoch 8/10.. Train loss: 0.811.. validation loss: 0.696.. Test accuracy: 0.810\n",
      "Epoch 8/10.. Train loss: 0.708.. validation loss: 0.648.. Test accuracy: 0.833\n",
      "Epoch 8/10.. Train loss: 0.732.. validation loss: 0.790.. Test accuracy: 0.754\n",
      "Epoch 8/10.. Train loss: 0.668.. validation loss: 0.780.. Test accuracy: 0.781\n",
      "Epoch 8/10.. Train loss: 0.810.. validation loss: 0.718.. Test accuracy: 0.763\n",
      "Epoch 8/10.. Train loss: 0.816.. validation loss: 0.722.. Test accuracy: 0.812\n",
      "Epoch 8/10.. Train loss: 0.670.. validation loss: 0.721.. Test accuracy: 0.802\n",
      "Epoch 9/10.. Train loss: 0.687.. validation loss: 0.803.. Test accuracy: 0.757\n",
      "Epoch 9/10.. Train loss: 0.826.. validation loss: 0.772.. Test accuracy: 0.753\n",
      "Epoch 9/10.. Train loss: 0.691.. validation loss: 1.013.. Test accuracy: 0.734\n",
      "Epoch 9/10.. Train loss: 0.659.. validation loss: 0.771.. Test accuracy: 0.791\n",
      "Epoch 9/10.. Train loss: 0.736.. validation loss: 0.974.. Test accuracy: 0.684\n",
      "Epoch 9/10.. Train loss: 0.668.. validation loss: 0.721.. Test accuracy: 0.813\n",
      "Epoch 9/10.. Train loss: 0.643.. validation loss: 0.650.. Test accuracy: 0.825\n",
      "Epoch 9/10.. Train loss: 0.715.. validation loss: 0.995.. Test accuracy: 0.764\n",
      "Epoch 9/10.. Train loss: 0.765.. validation loss: 0.761.. Test accuracy: 0.791\n",
      "Epoch 9/10.. Train loss: 0.624.. validation loss: 1.187.. Test accuracy: 0.755\n",
      "Epoch 9/10.. Train loss: 0.774.. validation loss: 0.754.. Test accuracy: 0.791\n",
      "Epoch 9/10.. Train loss: 0.697.. validation loss: 0.785.. Test accuracy: 0.800\n",
      "Epoch 9/10.. Train loss: 0.634.. validation loss: 0.699.. Test accuracy: 0.768\n",
      "Epoch 10/10.. Train loss: 0.568.. validation loss: 0.750.. Test accuracy: 0.802\n",
      "Epoch 10/10.. Train loss: 0.564.. validation loss: 0.759.. Test accuracy: 0.795\n",
      "Epoch 10/10.. Train loss: 0.636.. validation loss: 0.695.. Test accuracy: 0.804\n",
      "Epoch 10/10.. Train loss: 0.654.. validation loss: 0.726.. Test accuracy: 0.808\n",
      "Epoch 10/10.. Train loss: 0.768.. validation loss: 0.649.. Test accuracy: 0.812\n",
      "Epoch 10/10.. Train loss: 0.696.. validation loss: 0.860.. Test accuracy: 0.783\n",
      "Epoch 10/10.. Train loss: 0.637.. validation loss: 1.026.. Test accuracy: 0.745\n",
      "Epoch 10/10.. Train loss: 0.732.. validation loss: 0.749.. Test accuracy: 0.772\n",
      "Epoch 10/10.. Train loss: 0.621.. validation loss: 0.883.. Test accuracy: 0.754\n",
      "Epoch 10/10.. Train loss: 0.587.. validation loss: 0.735.. Test accuracy: 0.808\n",
      "Epoch 10/10.. Train loss: 0.579.. validation loss: 0.715.. Test accuracy: 0.813\n",
      "Epoch 10/10.. Train loss: 0.680.. validation loss: 0.882.. Test accuracy: 0.773\n",
      "Epoch 10/10.. Train loss: 0.677.. validation loss: 0.735.. Test accuracy: 0.805\n"
     ]
    }
   ],
   "source": [
    "device = torch.device(\"cuda\" if torch.cuda.is_available() else \"cpu\")\n",
    "model = models.vgg16(pretrained = True)\n",
    "\n",
    "for param in model.parameters():\n",
    "    param.requires_grad = False\n",
    "\n",
    "from collections import OrderedDict\n",
    "classifier = nn.Sequential(OrderedDict([('dropout',nn.Dropout(0.5)),\n",
    "                          ('fc1', nn.Linear(25088, 512)),\n",
    "                          ('relu1', nn.ReLU()),\n",
    "                          ('fc2', nn.Linear(512, 256)),\n",
    "                          ('relu2',nn.ReLU()),              \n",
    "                          ('fc3', nn.Linear(256, 128)),\n",
    "                          ('relu3', nn.ReLU()),\n",
    "                          ('fc4',nn.Linear(128,102)),              \n",
    "                          ('output', nn.LogSoftmax(dim=1))\n",
    "                          ]))\n",
    "   \n",
    "model.classifier = classifier\n",
    "criterion = nn.NLLLoss()\n",
    "optimizer = optim.Adam(model.classifier.parameters(), lr=0.001)\n",
    "model.to(device)\n",
    "epochs = 10\n",
    "steps = 0\n",
    "running_loss = 0\n",
    "print_every = 5\n",
    "model.to('cuda')\n",
    "for epoch in range(epochs):\n",
    "    for inputs, labels in trainloaders:\n",
    "        steps += 1\n",
    "        # Move input and label tensors to the default device\n",
    "        inputs, labels = inputs.to(device), labels.to(device)\n",
    "        \n",
    "        optimizer.zero_grad()\n",
    "        \n",
    "        logps = model.forward(inputs)\n",
    "        loss = criterion(logps, labels)\n",
    "        loss.backward()\n",
    "        optimizer.step()\n",
    "\n",
    "        running_loss += loss.item()\n",
    "        \n",
    "        if steps % print_every == 0:\n",
    "            test_loss = 0\n",
    "            accuracy = 0\n",
    "            model.eval()\n",
    "            with torch.no_grad():\n",
    "                for inputs, labels in validloaders:\n",
    "                    inputs, labels = inputs.to(device), labels.to(device)\n",
    "                    logps = model.forward(inputs)\n",
    "                    batch_loss = criterion(logps, labels)\n",
    "                    \n",
    "                    test_loss += batch_loss.item()\n",
    "                    \n",
    "                    # Calculate accuracy\n",
    "                    ps = torch.exp(logps)\n",
    "                    top_p, top_class = ps.topk(1, dim=1)\n",
    "                    equals = top_class == labels.view(*top_class.shape)\n",
    "                    accuracy += torch.mean(equals.type(torch.FloatTensor)).item()\n",
    "                    \n",
    "            print(f\"Epoch {epoch+1}/{epochs}.. \"\n",
    "                  f\"Train loss: {running_loss/print_every:.3f}.. \"\n",
    "                  f\"validation loss: {test_loss/len(validloaders):.3f}.. \"\n",
    "                  f\"Test accuracy: {accuracy/len(validloaders):.3f}\")\n",
    "            running_loss = 0\n",
    "            model.train()\n",
    "\n"
   ]
  },
  {
   "cell_type": "markdown",
   "metadata": {},
   "source": [
    "## Testing your network\n",
    "\n",
    "It's good practice to test your trained network on test data, images the network has never seen either in training or validation. This will give you a good estimate for the model's performance on completely new images. Run the test images through the network and measure the accuracy, the same way you did validation. You should be able to reach around 70% accuracy on the test set if the model has been trained well."
   ]
  },
  {
   "cell_type": "code",
   "execution_count": 6,
   "metadata": {},
   "outputs": [
    {
     "name": "stdout",
     "output_type": "stream",
     "text": [
      "Test accuracy: 75.163\n"
     ]
    }
   ],
   "source": [
    "# TODO: Do validation on the test set\n",
    "test_loss = 0\n",
    "accuracy = 0\n",
    "with torch.no_grad():\n",
    "    for inputs, labels in testloaders:\n",
    "        inputs, labels = inputs.to(device), labels.to(device)\n",
    "        logps = model.forward(inputs)\n",
    "        batch_loss = criterion(logps, labels)\n",
    "                    \n",
    "        test_loss += batch_loss.item()\n",
    "                    \n",
    "                    \n",
    "        ps = torch.exp(logps)\n",
    "        top_p, top_class = ps.topk(1, dim=1)\n",
    "        equals = top_class == labels.view(*top_class.shape)\n",
    "        accuracy += torch.mean(equals.type(torch.FloatTensor)).item()\n",
    "                    \n",
    "    print(f\"Test accuracy: {(accuracy*100)/len(testloaders):.3f}\")\n",
    "                  "
   ]
  },
  {
   "cell_type": "markdown",
   "metadata": {},
   "source": [
    "## Save the checkpoint\n",
    "\n",
    "Now that your network is trained, save the model so you can load it later for making predictions. You probably want to save other things such as the mapping of classes to indices which you get from one of the image datasets: `image_datasets['train'].class_to_idx`. You can attach this to the model as an attribute which makes inference easier later on.\n",
    "\n",
    "```model.class_to_idx = image_datasets['train'].class_to_idx```\n",
    "\n",
    "Remember that you'll want to completely rebuild the model later so you can use it for inference. Make sure to include any information you need in the checkpoint. If you want to load the model and keep training, you'll want to save the number of epochs as well as the optimizer state, `optimizer.state_dict`. You'll likely want to use this trained model in the next part of the project, so best to save it now."
   ]
  },
  {
   "cell_type": "code",
   "execution_count": null,
   "metadata": {},
   "outputs": [],
   "source": [
    "# TODO: Save the checkpoint \n",
    "model.class_to_idx = train_datasets.class_to_idx\n",
    "checkpoint = {'input_size': 25088,\n",
    "              'output_size': 102,\n",
    "              'hidden_layers': 512,\n",
    "              'state_dict': model.state_dict(),\n",
    "               'model.class_to_idx': model.class_to_idx}\n",
    "\n",
    "torch.save(checkpoint, 'checkpoint.pth')"
   ]
  },
  {
   "cell_type": "markdown",
   "metadata": {},
   "source": [
    "## Loading the checkpoint\n",
    "\n",
    "At this point it's good to write a function that can load a checkpoint and rebuild the model. That way you can come back to this project and keep working on it without having to retrain the network."
   ]
  },
  {
   "cell_type": "code",
   "execution_count": 1,
   "metadata": {},
   "outputs": [],
   "source": [
    "# TODO: Write a function that loads a checkpoint and rebuilds the model\n",
    "def load_checkpoint(filepath):\n",
    "    checkpoint = torch.load(filepath)\n",
    "    model = fc_model.Network(checkpoint['input_size'],\n",
    "                             checkpoint['output_size'],\n",
    "                             checkpoint['hidden_layers'],\n",
    "                             checkpoint['model.class_to_idx'])\n",
    "    model.load_state_dict(checkpoint['state_dict'])\n",
    "    model = models.vgg16(pretrained = True)\n",
    "    return model\n"
   ]
  },
  {
   "cell_type": "markdown",
   "metadata": {},
   "source": [
    "# Inference for classification\n",
    "\n",
    "Now you'll write a function to use a trained network for inference. That is, you'll pass an image into the network and predict the class of the flower in the image. Write a function called `predict` that takes an image and a model, then returns the top $K$ most likely classes along with the probabilities. It should look like \n",
    "\n",
    "```python\n",
    "probs, classes = predict(image_path, model)\n",
    "print(probs)\n",
    "print(classes)\n",
    "> [ 0.01558163  0.01541934  0.01452626  0.01443549  0.01407339]\n",
    "> ['70', '3', '45', '62', '55']\n",
    "```\n",
    "\n",
    "First you'll need to handle processing the input image such that it can be used in your network. \n",
    "\n",
    "## Image Preprocessing\n",
    "\n",
    "You'll want to use `PIL` to load the image ([documentation](https://pillow.readthedocs.io/en/latest/reference/Image.html)). It's best to write a function that preprocesses the image so it can be used as input for the model. This function should process the images in the same manner used for training. \n",
    "\n",
    "First, resize the images where the shortest side is 256 pixels, keeping the aspect ratio. This can be done with the [`thumbnail`](http://pillow.readthedocs.io/en/3.1.x/reference/Image.html#PIL.Image.Image.thumbnail) or [`resize`](http://pillow.readthedocs.io/en/3.1.x/reference/Image.html#PIL.Image.Image.thumbnail) methods. Then you'll need to crop out the center 224x224 portion of the image.\n",
    "\n",
    "Color channels of images are typically encoded as integers 0-255, but the model expected floats 0-1. You'll need to convert the values. It's easiest with a Numpy array, which you can get from a PIL image like so `np_image = np.array(pil_image)`.\n",
    "\n",
    "As before, the network expects the images to be normalized in a specific way. For the means, it's `[0.485, 0.456, 0.406]` and for the standard deviations `[0.229, 0.224, 0.225]`. You'll want to subtract the means from each color channel, then divide by the standard deviation. \n",
    "\n",
    "And finally, PyTorch expects the color channel to be the first dimension but it's the third dimension in the PIL image and Numpy array. You can reorder dimensions using [`ndarray.transpose`](https://docs.scipy.org/doc/numpy-1.13.0/reference/generated/numpy.ndarray.transpose.html). The color channel needs to be first and retain the order of the other two dimensions."
   ]
  },
  {
   "cell_type": "code",
   "execution_count": 7,
   "metadata": {},
   "outputs": [],
   "source": [
    "def process_image(image):\n",
    "    ''' Scales, crops, and normalizes a PIL image for a PyTorch model,\n",
    "        returns an Numpy array\n",
    "    '''\n",
    "    \n",
    "    # TODO: Process a PIL image for use in a PyTorch model\n",
    "    adj = transforms.Compose([transforms.Resize(256),\n",
    "                              transforms.RandomResizedCrop(224),  \n",
    "                              transforms.ToTensor(),\n",
    "                              transforms.Normalize([0.485, 0.456, 0.406],[0.229, 0.224, 0.225])])\n",
    "    im = Image.open(image)\n",
    "    im = adj(im)\n",
    "    return im\n",
    "    \n",
    "    "
   ]
  },
  {
   "cell_type": "markdown",
   "metadata": {},
   "source": [
    "To check your work, the function below converts a PyTorch tensor and displays it in the notebook. If your `process_image` function works, running the output through this function should return the original image (except for the cropped out portions)."
   ]
  },
  {
   "cell_type": "code",
   "execution_count": 8,
   "metadata": {},
   "outputs": [],
   "source": [
    "def imshow(image, ax=None, title=None):\n",
    "    \"\"\"Imshow for Tensor.\"\"\"\n",
    "    if ax is None:\n",
    "        fig, ax = plt.subplots()\n",
    "    \n",
    "    # PyTorch tensors assume the color channel is the first dimension\n",
    "    # but matplotlib assumes is the third dimension\n",
    "    image = image.numpy().transpose((1, 2, 0))\n",
    "    \n",
    "    # Undo preprocessing\n",
    "    mean = np.array([0.485, 0.456, 0.406])\n",
    "    std = np.array([0.229, 0.224, 0.225])\n",
    "    image = std * image + mean\n",
    "    \n",
    "    # Image needs to be clipped between 0 and 1 or it looks like noise when displayed\n",
    "    image = np.clip(image, 0, 1)\n",
    "    \n",
    "    ax.imshow(image)\n",
    "    \n",
    "    return ax\n",
    "\n"
   ]
  },
  {
   "cell_type": "markdown",
   "metadata": {},
   "source": [
    "## Class Prediction\n",
    "\n",
    "Once you can get images in the correct format, it's time to write a function for making predictions with your model. A common practice is to predict the top 5 or so (usually called top-$K$) most probable classes. You'll want to calculate the class probabilities then find the $K$ largest values.\n",
    "\n",
    "To get the top $K$ largest values in a tensor use [`x.topk(k)`](http://pytorch.org/docs/master/torch.html#torch.topk). This method returns both the highest `k` probabilities and the indices of those probabilities corresponding to the classes. You need to convert from these indices to the actual class labels using `class_to_idx` which hopefully you added to the model or from an `ImageFolder` you used to load the data ([see here](#Save-the-checkpoint)). Make sure to invert the dictionary so you get a mapping from index to class as well.\n",
    "\n",
    "Again, this method should take a path to an image and a model checkpoint, then return the probabilities and classes.\n",
    "\n",
    "```python\n",
    "probs, classes = predict(image_path, model)\n",
    "print(probs)\n",
    "print(classes)\n",
    "> [ 0.01558163  0.01541934  0.01452626  0.01443549  0.01407339]\n",
    "> ['70', '3', '45', '62', '55']\n",
    "```"
   ]
  },
  {
   "cell_type": "code",
   "execution_count": 9,
   "metadata": {},
   "outputs": [],
   "source": [
    "def predict(image_path, model, topk=5):\n",
    "    ''' Predict the class (or classes) of an image using a trained deep learning model.\n",
    "    '''\n",
    "    model.class_to_idx = train_datasets.class_to_idx\n",
    "    model.to('cuda:0')\n",
    "    # TODO: Implement the code to predict the class from an image file\n",
    "    img = process_image(image_path)\n",
    "    img = img.unsqueeze_(0)\n",
    "    img = img.float()\n",
    "    with torch.no_grad():\n",
    "        logps = model.forward(img.cuda())\n",
    "    ps = torch.exp(logps)\n",
    "    top_p, top_class = ps.topk(topk, dim=1)\n",
    "    return top_p, top_class\n",
    "\n"
   ]
  },
  {
   "cell_type": "code",
   "execution_count": null,
   "metadata": {},
   "outputs": [],
   "source": [
    "print()"
   ]
  },
  {
   "cell_type": "markdown",
   "metadata": {},
   "source": [
    "## Sanity Checking\n",
    "\n",
    "Now that you can use a trained model for predictions, check to make sure it makes sense. Even if the testing accuracy is high, it's always good to check that there aren't obvious bugs. Use `matplotlib` to plot the probabilities for the top 5 classes as a bar graph, along with the input image. It should look like this:\n",
    "\n",
    "<img src='assets/inference_example.png' width=300px>\n",
    "\n",
    "You can convert from the class integer encoding to actual flower names with the `cat_to_name.json` file (should have been loaded earlier in the notebook). To show a PyTorch tensor as an image, use the `imshow` function defined above."
   ]
  },
  {
   "cell_type": "code",
   "execution_count": 10,
   "metadata": {},
   "outputs": [],
   "source": [
    "# TODO: Display an image along with the top 5 classes"
   ]
  },
  {
   "cell_type": "code",
   "execution_count": 14,
   "metadata": {},
   "outputs": [],
   "source": [
    "def check_sanity():\n",
    "    plt.rcParams[\"figure.figsize\"] = (10,5)\n",
    "    plt.subplot(211)\n",
    "    \n",
    "    index = 1\n",
    "    path = test_dir + '/1/image_06743.jpg'\n",
    "\n",
    "    probabilities = predict(path, model)\n",
    "    image = process_image(path)\n",
    "    probabilities = probabilities\n",
    "    \n",
    "\n",
    "    axs = imshow(image, ax = plt)\n",
    "    axs.axis('off')\n",
    "    axs.title(cat_to_name[str(index)])\n",
    "    axs.show()\n",
    "    \n",
    "    \n",
    "    a = np.array(probabilities[0][0])\n",
    "    b = [cat_to_name[str(index + 1)] for index in np.array(probabilities[1][0])]\n",
    "    \n",
    "    \n",
    "    N=float(len(b))\n",
    "    fig,ax = plt.subplots(figsize=(8,3))\n",
    "    width = 0.8\n",
    "    tickLocations = np.arange(N)\n",
    "    ax.bar(tickLocations, a, width, linewidth=4.0, align = 'center')\n",
    "    ax.set_xticks(ticks = tickLocations)\n",
    "    ax.set_xticklabels(b)\n",
    "    ax.set_xlim(min(tickLocations)-0.6,max(tickLocations)+0.6)\n",
    "    ax.set_yticks([0.2,0.4,0.6,0.8,1,1.2])\n",
    "    ax.set_ylim((0,1))\n",
    "    ax.yaxis.grid(True)\n",
    "    ax.yaxis.set_major_formatter(FormatStrFormatter('%.2f'))\n",
    "\n",
    "    plt.show()"
   ]
  },
  {
   "cell_type": "code",
   "execution_count": 15,
   "metadata": {},
   "outputs": [
    {
     "data": {
      "image/png": "[encoded data removed]",
      "text/plain": [
       "<matplotlib.figure.Figure at 0x7fda00be34a8>"
      ]
     },
     "metadata": {
      "needs_background": "light"
     },
     "output_type": "display_data"
    },
    {
     "data": {
      "image/png": "[encoded data removed]",
      "text/plain": [
       "<matplotlib.figure.Figure at 0x7fda00b97358>"
      ]
     },
     "metadata": {
      "needs_background": "light"
     },
     "output_type": "display_data"
    }
   ],
   "source": [
    "check_sanity()"
   ]
  },
  {
   "cell_type": "code",
   "execution_count": 20,
   "metadata": {},
   "outputs": [
    {
     "name": "stdout",
     "output_type": "stream",
     "text": [
      "(tensor([[ 0.8768,  0.0326,  0.0226,  0.0115,  0.0088]], device='cuda:0'), tensor([[  0,  87,  84,  83,  93]], device='cuda:0'))\n"
     ]
    }
   ],
   "source": [
    "probabilities = predict(test_dir + '/1/image_06743.jpg', model)\n",
    "image = process_image(test_dir + '/1/image_06743.jpg')\n",
    "probabilities = probabilities\n",
    "    \n",
    "print(probabilities)"
   ]
  },
  {
   "cell_type": "code",
   "execution_count": null,
   "metadata": {},
   "outputs": [],
   "source": []
  }
 ],
 "metadata": {
  "kernelspec": {
   "display_name": "Python 3",
   "language": "python",
   "name": "python3"
  },
  "language_info": {
   "codemirror_mode": {
    "name": "ipython",
    "version": 3
   },
   "file_extension": ".py",
   "mimetype": "text/x-python",
   "name": "python",
   "nbconvert_exporter": "python",
   "pygments_lexer": "ipython3",
   "version": "3.6.3"
  }
 },
 "nbformat": 4,
 "nbformat_minor": 2
}
